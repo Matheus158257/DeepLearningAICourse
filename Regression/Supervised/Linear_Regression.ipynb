{
 "cells": [
  {
   "cell_type": "markdown",
   "metadata": {},
   "source": [
    "## Aula 1 Video 1 - Entendendo os seus dados"
   ]
  },
  {
   "cell_type": "code",
   "execution_count": 1,
   "metadata": {},
   "outputs": [],
   "source": [
    "import pandas as pd\n",
    "import matplotlib.pyplot as plt\n",
    "from sklearn.model_selection import train_test_split\n",
    "from sklearn.linear_model import LinearRegression\n",
    "import numpy as np"
   ]
  },
  {
   "cell_type": "markdown",
   "metadata": {},
   "source": [
    "Você pode baixar o arquivo CSV [regressao_linear_alura.csv](https://s3.amazonaws.com/caelum-online-public/machine-learning-aprendizado-supervisionado/regressao_linear_alura.csv)."
   ]
  },
  {
   "cell_type": "code",
   "execution_count": 2,
   "metadata": {},
   "outputs": [],
   "source": [
    "movies = pd.read_csv('datasets/regressao_linear_alura.csv')"
   ]
  },
  {
   "cell_type": "code",
   "execution_count": 3,
   "metadata": {},
   "outputs": [
    {
     "data": {
      "text/html": [
       "<div>\n",
       "<style scoped>\n",
       "    .dataframe tbody tr th:only-of-type {\n",
       "        vertical-align: middle;\n",
       "    }\n",
       "\n",
       "    .dataframe tbody tr th {\n",
       "        vertical-align: top;\n",
       "    }\n",
       "\n",
       "    .dataframe thead th {\n",
       "        text-align: right;\n",
       "    }\n",
       "</style>\n",
       "<table border=\"1\" class=\"dataframe\">\n",
       "  <thead>\n",
       "    <tr style=\"text-align: right;\">\n",
       "      <th></th>\n",
       "      <th>movieId</th>\n",
       "      <th>Titulo</th>\n",
       "      <th>Investimento (em milhoes)</th>\n",
       "      <th>Bilheteria (pessoas)</th>\n",
       "    </tr>\n",
       "  </thead>\n",
       "  <tbody>\n",
       "    <tr>\n",
       "      <th>0</th>\n",
       "      <td>1</td>\n",
       "      <td>Toy Story (1995)</td>\n",
       "      <td>11.048216</td>\n",
       "      <td>5623234.602</td>\n",
       "    </tr>\n",
       "    <tr>\n",
       "      <th>1</th>\n",
       "      <td>2</td>\n",
       "      <td>Jumanji (1995)</td>\n",
       "      <td>14.927678</td>\n",
       "      <td>5714951.757</td>\n",
       "    </tr>\n",
       "    <tr>\n",
       "      <th>2</th>\n",
       "      <td>3</td>\n",
       "      <td>Grumpier Old Men (1995)</td>\n",
       "      <td>27.114597</td>\n",
       "      <td>9524339.124</td>\n",
       "    </tr>\n",
       "    <tr>\n",
       "      <th>3</th>\n",
       "      <td>4</td>\n",
       "      <td>Waiting to Exhale (1995)</td>\n",
       "      <td>4.994242</td>\n",
       "      <td>6331568.779</td>\n",
       "    </tr>\n",
       "    <tr>\n",
       "      <th>4</th>\n",
       "      <td>5</td>\n",
       "      <td>Father of the Bride Part II (1995)</td>\n",
       "      <td>19.142246</td>\n",
       "      <td>6409617.277</td>\n",
       "    </tr>\n",
       "  </tbody>\n",
       "</table>\n",
       "</div>"
      ],
      "text/plain": [
       "   movieId                              Titulo  Investimento (em milhoes)  \\\n",
       "0        1                    Toy Story (1995)                  11.048216   \n",
       "1        2                      Jumanji (1995)                  14.927678   \n",
       "2        3             Grumpier Old Men (1995)                  27.114597   \n",
       "3        4            Waiting to Exhale (1995)                   4.994242   \n",
       "4        5  Father of the Bride Part II (1995)                  19.142246   \n",
       "\n",
       "   Bilheteria (pessoas)  \n",
       "0           5623234.602  \n",
       "1           5714951.757  \n",
       "2           9524339.124  \n",
       "3           6331568.779  \n",
       "4           6409617.277  "
      ]
     },
     "execution_count": 3,
     "metadata": {},
     "output_type": "execute_result"
    }
   ],
   "source": [
    "movies.head()"
   ]
  },
  {
   "cell_type": "code",
   "execution_count": 4,
   "metadata": {},
   "outputs": [
    {
     "data": {
      "text/plain": [
       "(9125, 4)"
      ]
     },
     "execution_count": 4,
     "metadata": {},
     "output_type": "execute_result"
    }
   ],
   "source": [
    "movies.shape"
   ]
  },
  {
   "cell_type": "code",
   "execution_count": 5,
   "metadata": {},
   "outputs": [],
   "source": [
    "x = movies['Investimento (em milhoes)']"
   ]
  },
  {
   "cell_type": "code",
   "execution_count": 6,
   "metadata": {},
   "outputs": [],
   "source": [
    "y = movies['Bilheteria (pessoas)']"
   ]
  },
  {
   "cell_type": "code",
   "execution_count": 7,
   "metadata": {},
   "outputs": [
    {
     "data": {
      "text/plain": [
       "<matplotlib.collections.PathCollection at 0x1bafe9dbbe0>"
      ]
     },
     "execution_count": 7,
     "metadata": {},
     "output_type": "execute_result"
    },
    {
     "data": {
      "image/png": "[encoded data removed]",
      "text/plain": [
       "<Figure size 432x288 with 1 Axes>"
      ]
     },
     "metadata": {
      "needs_background": "light"
     },
     "output_type": "display_data"
    }
   ],
   "source": [
    "plt.scatter(x,y)"
   ]
  },
  {
   "cell_type": "code",
   "execution_count": 8,
   "metadata": {},
   "outputs": [],
   "source": [
    "sample = movies.sample(n=200)"
   ]
  },
  {
   "cell_type": "code",
   "execution_count": 9,
   "metadata": {},
   "outputs": [],
   "source": [
    "x = sample['Investimento (em milhoes)']"
   ]
  },
  {
   "cell_type": "code",
   "execution_count": 10,
   "metadata": {},
   "outputs": [],
   "source": [
    "y = sample['Bilheteria (pessoas)']"
   ]
  },
  {
   "cell_type": "code",
   "execution_count": 11,
   "metadata": {},
   "outputs": [
    {
     "data": {
      "text/plain": [
       "<matplotlib.collections.PathCollection at 0x1bafed45588>"
      ]
     },
     "execution_count": 11,
     "metadata": {},
     "output_type": "execute_result"
    },
    {
     "data": {
      "image/png": "[encoded data removed]",
      "text/plain": [
       "<Figure size 432x288 with 1 Axes>"
      ]
     },
     "metadata": {
      "needs_background": "light"
     },
     "output_type": "display_data"
    }
   ],
   "source": [
    "plt.scatter(x,y)"
   ]
  },
  {
   "cell_type": "markdown",
   "metadata": {},
   "source": [
    "## Aula 1 - Video 2 - A regressão linear"
   ]
  },
  {
   "cell_type": "code",
   "execution_count": 12,
   "metadata": {},
   "outputs": [],
   "source": [
    "filmes_investimento = movies['Investimento (em milhoes)']\n",
    "filmes_bilheteria = movies['Bilheteria (pessoas)']"
   ]
  },
  {
   "cell_type": "code",
   "execution_count": 13,
   "metadata": {},
   "outputs": [
    {
     "data": {
      "text/plain": [
       "pandas.core.series.Series"
      ]
     },
     "execution_count": 13,
     "metadata": {},
     "output_type": "execute_result"
    }
   ],
   "source": [
    "type(filmes_investimento)"
   ]
  },
  {
   "cell_type": "code",
   "execution_count": 14,
   "metadata": {},
   "outputs": [
    {
     "data": {
      "text/plain": [
       "0    11.048216\n",
       "1    14.927678\n",
       "2    27.114597\n",
       "3     4.994242\n",
       "4    19.142246\n",
       "5     9.977311\n",
       "6    14.257461\n",
       "7     8.871800\n",
       "8    29.112800\n",
       "9     3.695241\n",
       "Name: Investimento (em milhoes), dtype: float64"
      ]
     },
     "execution_count": 14,
     "metadata": {},
     "output_type": "execute_result"
    }
   ],
   "source": [
    "filmes_investimento.head(10)"
   ]
  },
  {
   "cell_type": "code",
   "execution_count": 15,
   "metadata": {},
   "outputs": [
    {
     "data": {
      "text/plain": [
       "0    5623234.602\n",
       "1    5714951.757\n",
       "2    9524339.124\n",
       "3    6331568.779\n",
       "4    6409617.277\n",
       "5    4956557.317\n",
       "6    4654565.066\n",
       "7    3950017.325\n",
       "8    6850971.551\n",
       "9    5157865.850\n",
       "Name: Bilheteria (pessoas), dtype: float64"
      ]
     },
     "execution_count": 15,
     "metadata": {},
     "output_type": "execute_result"
    }
   ],
   "source": [
    "filmes_bilheteria.head(10)"
   ]
  },
  {
   "cell_type": "code",
   "execution_count": 16,
   "metadata": {},
   "outputs": [],
   "source": [
    "treino, teste, treino_bilheteria, teste_bilheteria = train_test_split(filmes_investimento, filmes_bilheteria)\n",
    "x_treino = treino\n",
    "x_teste = teste\n",
    "y_treino = treino_bilheteria\n",
    "y_teste = teste_bilheteria"
   ]
  },
  {
   "cell_type": "code",
   "execution_count": 17,
   "metadata": {},
   "outputs": [
    {
     "name": "stdout",
     "output_type": "stream",
     "text": [
      "Tamanho treino: 6843 Tamanho teste: 2282 Total: 9125 (6843 + 2282)\n"
     ]
    }
   ],
   "source": [
    "print('Tamanho treino: {0} Tamanho teste: {1} Total: {2} ({0} + {1})'.format(len(x_treino), len(x_teste), len(filmes_investimento)))"
   ]
  },
  {
   "cell_type": "code",
   "execution_count": 18,
   "metadata": {},
   "outputs": [
    {
     "name": "stdout",
     "output_type": "stream",
     "text": [
      "Porcentagem treino 0.7499178082191781\n"
     ]
    }
   ],
   "source": [
    "print('Porcentagem treino {}'.format(len(x_treino)/len(filmes_investimento)))"
   ]
  },
  {
   "cell_type": "code",
   "execution_count": 19,
   "metadata": {},
   "outputs": [
    {
     "name": "stdout",
     "output_type": "stream",
     "text": [
      "2058     6.872631\n",
      "6867     6.938375\n",
      "3910    14.793992\n",
      "4390     5.006828\n",
      "8028    13.868531\n",
      "8858    47.537021\n",
      "8321     9.321282\n",
      "2881    47.238407\n",
      "3390    16.638015\n",
      "3268    11.456056\n",
      "238     36.767694\n",
      "3342    14.059279\n",
      "4515     5.274706\n",
      "3877    38.551629\n",
      "8039    21.666246\n",
      "4064     3.732578\n",
      "4083    11.332786\n",
      "2018     3.507203\n",
      "6686    20.746809\n",
      "7900    37.405859\n",
      "405      3.591702\n",
      "772     43.113445\n",
      "5452     4.078117\n",
      "8071    33.557724\n",
      "7772    28.220414\n",
      "4107     3.560473\n",
      "4564    14.755202\n",
      "4345     5.136070\n",
      "3264     8.060862\n",
      "8648    25.465750\n",
      "          ...    \n",
      "8126     4.471564\n",
      "4331     3.864676\n",
      "2727    19.757764\n",
      "1309    19.325912\n",
      "6450    27.864311\n",
      "4002    11.307934\n",
      "641      6.727850\n",
      "8431     6.853118\n",
      "7565     4.216749\n",
      "6869     3.628900\n",
      "7165    22.882299\n",
      "200     46.739397\n",
      "506     13.151282\n",
      "4656    20.617545\n",
      "1730     4.386269\n",
      "825     14.303191\n",
      "8778     7.316062\n",
      "3861     7.086432\n",
      "2287    26.310350\n",
      "6860    13.876560\n",
      "811     17.328950\n",
      "4782    13.976944\n",
      "5771     3.973913\n",
      "8803     8.585426\n",
      "2157    11.552384\n",
      "6757     8.976212\n",
      "5064    18.847043\n",
      "8865    29.607224\n",
      "7037    17.813681\n",
      "954      4.338384\n",
      "Name: Investimento (em milhoes), Length: 6843, dtype: float64\n"
     ]
    }
   ],
   "source": [
    "type(x_treino)\n",
    "print(x_treino)"
   ]
  },
  {
   "cell_type": "code",
   "execution_count": 20,
   "metadata": {},
   "outputs": [
    {
     "name": "stdout",
     "output_type": "stream",
     "text": [
      "2058     6.872631\n",
      "6867     6.938375\n",
      "3910    14.793992\n",
      "4390     5.006828\n",
      "8028    13.868531\n",
      "8858    47.537021\n",
      "8321     9.321282\n",
      "2881    47.238407\n",
      "3390    16.638015\n",
      "3268    11.456056\n",
      "238     36.767694\n",
      "3342    14.059279\n",
      "4515     5.274706\n",
      "3877    38.551629\n",
      "8039    21.666246\n",
      "4064     3.732578\n",
      "4083    11.332786\n",
      "2018     3.507203\n",
      "6686    20.746809\n",
      "7900    37.405859\n",
      "405      3.591702\n",
      "772     43.113445\n",
      "5452     4.078117\n",
      "8071    33.557724\n",
      "7772    28.220414\n",
      "4107     3.560473\n",
      "4564    14.755202\n",
      "4345     5.136070\n",
      "3264     8.060862\n",
      "8648    25.465750\n",
      "          ...    \n",
      "8126     4.471564\n",
      "4331     3.864676\n",
      "2727    19.757764\n",
      "1309    19.325912\n",
      "6450    27.864311\n",
      "4002    11.307934\n",
      "641      6.727850\n",
      "8431     6.853118\n",
      "7565     4.216749\n",
      "6869     3.628900\n",
      "7165    22.882299\n",
      "200     46.739397\n",
      "506     13.151282\n",
      "4656    20.617545\n",
      "1730     4.386269\n",
      "825     14.303191\n",
      "8778     7.316062\n",
      "3861     7.086432\n",
      "2287    26.310350\n",
      "6860    13.876560\n",
      "811     17.328950\n",
      "4782    13.976944\n",
      "5771     3.973913\n",
      "8803     8.585426\n",
      "2157    11.552384\n",
      "6757     8.976212\n",
      "5064    18.847043\n",
      "8865    29.607224\n",
      "7037    17.813681\n",
      "954      4.338384\n",
      "Name: Investimento (em milhoes), Length: 6843, dtype: float64\n"
     ]
    }
   ],
   "source": [
    "x_treino = np.array(x_treino).reshape(len(x_treino),1)\n",
    "print(treino)"
   ]
  },
  {
   "cell_type": "code",
   "execution_count": 21,
   "metadata": {},
   "outputs": [
    {
     "data": {
      "text/plain": [
       "numpy.ndarray"
      ]
     },
     "execution_count": 21,
     "metadata": {},
     "output_type": "execute_result"
    }
   ],
   "source": [
    "type(x_treino)"
   ]
  },
  {
   "cell_type": "code",
   "execution_count": 22,
   "metadata": {},
   "outputs": [],
   "source": [
    "x_teste = np.array(x_teste).reshape(len(x_teste),1)"
   ]
  },
  {
   "cell_type": "code",
   "execution_count": 23,
   "metadata": {},
   "outputs": [
    {
     "data": {
      "text/plain": [
       "numpy.ndarray"
      ]
     },
     "execution_count": 23,
     "metadata": {},
     "output_type": "execute_result"
    }
   ],
   "source": [
    "type(x_teste)"
   ]
  },
  {
   "cell_type": "code",
   "execution_count": 24,
   "metadata": {},
   "outputs": [
    {
     "name": "stdout",
     "output_type": "stream",
     "text": [
      "6843\n",
      "2282\n",
      "6843\n",
      "2282\n"
     ]
    }
   ],
   "source": [
    "y_treino = np.array(y_treino).reshape(len(y_treino),1)\n",
    "y_teste= np.array(y_teste).reshape(len(y_teste),1)\n",
    "print(len(y_treino))\n",
    "print(len(y_teste))\n",
    "print(len(x_treino))\n",
    "print(len(x_teste))\n"
   ]
  },
  {
   "cell_type": "code",
   "execution_count": 25,
   "metadata": {},
   "outputs": [
    {
     "data": {
      "text/plain": [
       "LinearRegression(copy_X=True, fit_intercept=True, n_jobs=None,\n",
       "         normalize=False)"
      ]
     },
     "execution_count": 25,
     "metadata": {},
     "output_type": "execute_result"
    }
   ],
   "source": [
    "modelo = LinearRegression()\n",
    "modelo.fit(x_treino, y_treino)\n",
    "modelo\n",
    "\n"
   ]
  },
  {
   "cell_type": "markdown",
   "metadata": {},
   "source": [
    "# Explicação da construção da reta de regressão\n",
    "y = ax + b\n",
    "a = modelo.coef_\n",
    "b = modelo.intercept_\n"
   ]
  },
  {
   "cell_type": "code",
   "execution_count": 33,
   "metadata": {},
   "outputs": [
    {
     "data": {
      "text/plain": [
       "array([5063642.07914375])"
      ]
     },
     "execution_count": 33,
     "metadata": {},
     "output_type": "execute_result"
    }
   ],
   "source": [
    "modelo.intercept_"
   ]
  },
  {
   "cell_type": "code",
   "execution_count": 34,
   "metadata": {},
   "outputs": [
    {
     "data": {
      "text/plain": [
       "array([[98739.35550213]])"
      ]
     },
     "execution_count": 34,
     "metadata": {},
     "output_type": "execute_result"
    }
   ],
   "source": [
    "modelo.coef_"
   ]
  },
  {
   "cell_type": "markdown",
   "metadata": {},
   "source": [
    "#### Investimento Zootopia 27.74456356"
   ]
  },
  {
   "cell_type": "code",
   "execution_count": 36,
   "metadata": {
    "scrolled": true
   },
   "outputs": [
    {
     "data": {
      "text/plain": [
       "array([[7803122.40374596]])"
      ]
     },
     "execution_count": 36,
     "metadata": {},
     "output_type": "execute_result"
    }
   ],
   "source": [
    "modelo.predict([[27.74456356]])"
   ]
  },
  {
   "cell_type": "code",
   "execution_count": 29,
   "metadata": {},
   "outputs": [
    {
     "data": {
      "text/plain": [
       "array([[7803122.40374596]])"
      ]
     },
     "execution_count": 29,
     "metadata": {},
     "output_type": "execute_result"
    }
   ],
   "source": [
    "modelo.coef_ * 27.74456356 + modelo.intercept_"
   ]
  },
  {
   "cell_type": "code",
   "execution_count": null,
   "metadata": {},
   "outputs": [],
   "source": [
    "modelo.score(x_treino, y_treino)"
   ]
  },
  {
   "cell_type": "code",
   "execution_count": null,
   "metadata": {},
   "outputs": [],
   "source": [
    "modelo.score(x_teste, y_teste)"
   ]
  },
  {
   "cell_type": "markdown",
   "metadata": {},
   "source": [
    "### Testando split dos dados de treino e teste com 10%"
   ]
  },
  {
   "cell_type": "code",
   "execution_count": null,
   "metadata": {},
   "outputs": [],
   "source": [
    "treino, teste, treino_bilheteria, teste_bilheteria = train_test_split(filmes_investimento, filmes_bilheteria, test_size=0.10)"
   ]
  },
  {
   "cell_type": "code",
   "execution_count": null,
   "metadata": {},
   "outputs": [],
   "source": [
    "treino = np.array(treino).reshape(len(treino),1)\n",
    "treino_bilheteria = np.array(treino_bilheteria).reshape(len(treino_bilheteria),1)\n",
    "teste_bilheteria= np.array(teste_bilheteria).reshape(len(teste_bilheteria),1)\n",
    "teste = np.array(teste).reshape(len(teste),1)"
   ]
  },
  {
   "cell_type": "code",
   "execution_count": null,
   "metadata": {},
   "outputs": [],
   "source": [
    "modelo_10 = LinearRegression()\n",
    "modelo_10.fit(treino, treino_bilheteria)\n",
    "modelo_10"
   ]
  },
  {
   "cell_type": "code",
   "execution_count": null,
   "metadata": {},
   "outputs": [],
   "source": [
    "modelo_10.score(treino, treino_bilheteria)"
   ]
  },
  {
   "cell_type": "code",
   "execution_count": null,
   "metadata": {},
   "outputs": [],
   "source": [
    "modelo_10.score(teste, teste_bilheteria)"
   ]
  },
  {
   "cell_type": "code",
   "execution_count": null,
   "metadata": {},
   "outputs": [],
   "source": []
  }
 ],
 "metadata": {
  "kernelspec": {
   "display_name": "Python 3",
   "language": "python",
   "name": "python3"
  },
  "language_info": {
   "codemirror_mode": {
    "name": "ipython",
    "version": 3
   },
   "file_extension": ".py",
   "mimetype": "text/x-python",
   "name": "python",
   "nbconvert_exporter": "python",
   "pygments_lexer": "ipython3",
   "version": "3.7.3"
  }
 },
 "nbformat": 4,
 "nbformat_minor": 2
}
